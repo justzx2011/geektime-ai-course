from diffusers import StableDiffusionUpscalePipeline

# load model and scheduler
model_id = "stabilityai/stable-diffusion-x4-upscaler"
pipeline = StableDiffusionUpscalePipeline.from_pretrained(
    model_id, revision="fp16", torch_dtype=torch.float16
)
pipeline = pipeline.to("cuda")

# let's download an  image
low_res_img_file = "./data/20230506.jpeg"
low_res_img = Image.open(low_res_img_file).convert("RGB")
low_res_img = low_res_img.resize((3024, 4032))

prompt = "A high definition portrait"

upscaled_image = pipeline(prompt=prompt, image=low_res_img).images[0]

low_res_img_resized = low_res_img.resize((3024, 4032))

display(low_res_img_resized)
display(upscaled_image)
